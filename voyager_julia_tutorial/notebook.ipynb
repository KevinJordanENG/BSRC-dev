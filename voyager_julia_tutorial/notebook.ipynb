{
 "cells": [
  {
   "cell_type": "code",
   "execution_count": 1,
   "metadata": {},
   "outputs": [],
   "source": [
    "using Blio\n",
    "using Plots"
   ]
  },
  {
   "cell_type": "code",
   "execution_count": 2,
   "metadata": {},
   "outputs": [
    {
     "data": {
      "text/plain": [
       "IOStream(<file /mnt_blpc1/datax/scratch/davidm/voyager.rawspec.0000.fil>)"
      ]
     },
     "metadata": {},
     "output_type": "display_data"
    }
   ],
   "source": [
    "fname = \"/mnt_blpc1/datax/scratch/davidm/voyager.rawspec.0000.fil\"\n",
    "fb = open(fname)"
   ]
  },
  {
   "cell_type": "code",
   "execution_count": 3,
   "metadata": {},
   "outputs": [
    {
     "data": {
      "text/plain": [
       "Blio.Filterbank.Header with 22 entries:\n",
       "  :machine_id   => 20\n",
       "  :telescope_id => 6\n",
       "  :src_raj      => 17.1996\n",
       "  :src_dej      => 11.9493\n",
       "  :az_start     => 0.0\n",
       "  :za_start     => 0.0\n",
       "  :data_type    => 1\n",
       "  :fch1         => 8400.0\n",
       "  :foff         => 2.8355e-6\n",
       "  :nchans       => 66125824\n",
       "  :nbeams       => 1\n",
       "  :ibeam        => -1\n",
       "  :nbits        => 32\n",
       "  :tstart       => 57386.9\n",
       "  :tsamp        => 17.9862\n",
       "  :nifs         => 1\n",
       "  :source_name  => \"VOYAGER1\"\n",
       "  :rawdatafile  => \"voyager.0000.raw\"\n",
       "  :header_size  => 358\n",
       "  ⋮             => ⋮"
      ]
     },
     "metadata": {},
     "output_type": "display_data"
    }
   ],
   "source": [
    "fbh = read(fb, Filterbank.Header)"
   ]
  },
  {
   "cell_type": "code",
   "execution_count": 5,
   "metadata": {},
   "outputs": [
    {
     "data": {
      "text/plain": [
       "8400.0:2.835503418452676e-6:8587.499997164497"
      ]
     },
     "metadata": {},
     "output_type": "display_data"
    }
   ],
   "source": [
    "freqs = chanfreqs(fbh)"
   ]
  },
  {
   "cell_type": "code",
   "execution_count": 6,
   "metadata": {},
   "outputs": [
    {
     "data": {
      "text/plain": [
       "((66125824,), Vector{Float32})"
      ]
     },
     "metadata": {},
     "output_type": "display_data"
    }
   ],
   "source": [
    "data = Array(fbh, 1, dropdims=true)\n",
    "size(data), typeof(data)"
   ]
  },
  {
   "cell_type": "code",
   "execution_count": 7,
   "metadata": {},
   "outputs": [
    {
     "data": {
      "text/plain": [
       "66125824-element Vector{Float32}:\n",
       " 4.225989f6\n",
       " 3.576765f6\n",
       " 4.465118f6\n",
       " 4.003297f6\n",
       " 3.750381f6\n",
       " 4.794592f6\n",
       " 3.565925f6\n",
       " 4.056705f6\n",
       " 3.7981568f6\n",
       " 4.2652595f6\n",
       " ⋮\n",
       " 2.900087f6\n",
       " 2.65084f6\n",
       " 2.4832625f6\n",
       " 2.0978498f6\n",
       " 2.792172f6\n",
       " 2.805836f6\n",
       " 2.8987375f6\n",
       " 2.5646758f6\n",
       " 2.3351585f6"
      ]
     },
     "metadata": {},
     "output_type": "display_data"
    }
   ],
   "source": [
    "read!(fb, data)"
   ]
  },
  {
   "cell_type": "code",
   "execution_count": 9,
   "metadata": {},
   "outputs": [],
   "source": [
    "plot(data)"
   ]
  },
  {
   "cell_type": "code",
   "execution_count": null,
   "metadata": {},
   "outputs": [],
   "source": []
  }
 ],
 "metadata": {
  "kernelspec": {
   "display_name": "Julia 1.7.3",
   "language": "julia",
   "name": "julia-1.7"
  },
  "language_info": {
   "file_extension": ".jl",
   "mimetype": "application/julia",
   "name": "julia",
   "version": "1.7.3"
  },
  "orig_nbformat": 4
 },
 "nbformat": 4,
 "nbformat_minor": 2
}
